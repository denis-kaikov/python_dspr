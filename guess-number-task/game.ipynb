{
 "cells": [
  {
   "cell_type": "markdown",
   "metadata": {},
   "source": [
    "# Игра угадай число\n",
    "\n",
    "## Условия соревнования\n",
    "- Компьютер загадывает целое число от 1 до 100, и нам его нужно угадать. Под «угадать», подразумевается «написать программу, которая угадывает число».    \n",
    "- Алгоритм учитывает информацию о том, больше ли случайное число или меньше нужного нам.\n",
    "- Необходимо добиться того, чтобы программа угадывала число меньше, чем за 20 попыток. "
   ]
  },
  {
   "cell_type": "code",
   "execution_count": 10,
   "metadata": {},
   "outputs": [],
   "source": [
    "from game_v2 import score_game, random_predict, fibon_search, binary_search\n"
   ]
  },
  {
   "cell_type": "markdown",
   "metadata": {},
   "source": [
    "## Угадываем рандомно"
   ]
  },
  {
   "cell_type": "code",
   "execution_count": 11,
   "metadata": {},
   "outputs": [
    {
     "name": "stdout",
     "output_type": "stream",
     "text": [
      "Run benchmarking for random_predict: Ваш алгоритм угадывает число в среднем за:98 попыток\n"
     ]
    }
   ],
   "source": [
    "print('Run benchmarking for random_predict: ', end='')\n",
    "score = score_game(random_predict)"
   ]
  },
  {
   "cell_type": "markdown",
   "metadata": {},
   "source": [
    "## Поиск Фибоначи\n",
    "поиск Фибоначи происходит перебором елементов в интервале находящихся на позициях соответсвующих числам Фибоначи "
   ]
  },
  {
   "cell_type": "code",
   "execution_count": 12,
   "metadata": {},
   "outputs": [
    {
     "name": "stdout",
     "output_type": "stream",
     "text": [
      "Run benchmarking for fibon_search: Ваш алгоритм угадывает число в среднем за:14 попыток\n"
     ]
    }
   ],
   "source": [
    "print('Run benchmarking for fibon_search: ', end='')\n",
    "score = score_game(fibon_search)"
   ]
  },
  {
   "cell_type": "markdown",
   "metadata": {},
   "source": [
    "## Бинарный поиск\n",
    "На каждой итерации происходит проверка равенства загаданного числа границам или середине интервала\n",
    "В случае отсутсвия выбирается та половина исходного интервала в которой находится число "
   ]
  },
  {
   "cell_type": "code",
   "execution_count": 13,
   "metadata": {},
   "outputs": [
    {
     "name": "stdout",
     "output_type": "stream",
     "text": [
      "Run benchmarking for binary_search: Ваш алгоритм угадывает число в среднем за:5 попыток\n"
     ]
    }
   ],
   "source": [
    "print('Run benchmarking for binary_search: ', end='')\n",
    "score = score_game(binary_search)"
   ]
  },
  {
   "cell_type": "markdown",
   "metadata": {},
   "source": [
    "## Итог \n",
    "самым эфективным решением поставленной задачи из реализованных является бинарный поиск(binary_search))"
   ]
  }
 ],
 "metadata": {
  "kernelspec": {
   "display_name": "Python 3",
   "language": "python",
   "name": "python3"
  },
  "language_info": {
   "codemirror_mode": {
    "name": "ipython",
    "version": 3
   },
   "file_extension": ".py",
   "mimetype": "text/x-python",
   "name": "python",
   "nbconvert_exporter": "python",
   "pygments_lexer": "ipython3",
   "version": "3.11.9"
  },
  "orig_nbformat": 4
 },
 "nbformat": 4,
 "nbformat_minor": 2
}
