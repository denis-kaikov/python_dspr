{
  "cells": [
    {
      "cell_type": "markdown",
      "id": "42289889-bd57-434e-9637-d3e354756316",
      "metadata": {
        "id": "42289889-bd57-434e-9637-d3e354756316"
      },
      "source": [
        "<center> <img src = https://raw.githubusercontent.com/AndreyRysistov/DatasetsForPandas/main/hh%20label.jpg alt=\"drawing\" style=\"width:400px;\">"
      ]
    },
    {
      "cell_type": "markdown",
      "id": "829cb75b-f14e-4ba8-9195-7ba929a7d656",
      "metadata": {
        "id": "829cb75b-f14e-4ba8-9195-7ba929a7d656",
        "tags": []
      },
      "source": [
        "# <center> Проект: Анализ вакансий из HeadHunter\n",
        "   "
      ]
    },
    {
      "cell_type": "code",
      "execution_count": 111,
      "id": "dccfde33-2452-43fb-a8a5-5c6ebc02a71d",
      "metadata": {
        "id": "dccfde33-2452-43fb-a8a5-5c6ebc02a71d"
      },
      "outputs": [],
      "source": [
        "import pandas as pd\n",
        "import numpy as np\n",
        "import plotly.express as px\n",
        "\n",
        "import psycopg2\n",
        "\n",
        "from sqlalchemy import create_engine"
      ]
    },
    {
      "cell_type": "code",
      "execution_count": 112,
      "id": "oVKH4ehvf8Ay",
      "metadata": {
        "id": "oVKH4ehvf8Ay"
      },
      "outputs": [],
      "source": [
        "# вставьте сюда параметры подключения из юнита 1. Работа с базой данных из Python\n"
      ]
    },
    {
      "cell_type": "code",
      "execution_count": 113,
      "id": "3fddb48f",
      "metadata": {},
      "outputs": [],
      "source": [
        "\n",
        "# Создаем строку подключения через SQLAlchemy\n",
        "# использую sqlalchemy потому что при испльзовании psycopg2 возникает предупреждение\n",
        "# в целом на работе это не отразилось по синтаксису точно, кроме юнита 6\n",
        "engine = create_engine(\n",
        "    f'postgresql+psycopg2://{USER}:{PASSWORD}@{HOST}:{PORT}/{DBNAME}')"
      ]
    },
    {
      "cell_type": "markdown",
      "id": "0dc6476b-7a00-44f1-ac93-6e3baed33a29",
      "metadata": {
        "id": "0dc6476b-7a00-44f1-ac93-6e3baed33a29"
      },
      "source": [
        "# Юнит 3. Предварительный анализ данных"
      ]
    },
    {
      "cell_type": "markdown",
      "id": "889782b6-8d1c-410e-8920-e57f27917c64",
      "metadata": {
        "id": "889782b6-8d1c-410e-8920-e57f27917c64"
      },
      "source": [
        "1. Напишите запрос, который посчитает количество вакансий в нашей базе (вакансии находятся в таблице vacancies). "
      ]
    },
    {
      "cell_type": "code",
      "execution_count": 114,
      "id": "bc39e68e-ed02-4ee2-9235-7258a2f867a8",
      "metadata": {
        "id": "bc39e68e-ed02-4ee2-9235-7258a2f867a8"
      },
      "outputs": [],
      "source": [
        "# текст запроса\n",
        "query_3_1 = f'''\n",
        "select count(id)\n",
        "from public.vacancies\n",
        "'''"
      ]
    },
    {
      "cell_type": "code",
      "execution_count": 115,
      "id": "5408c52c-3407-4a63-b25b-1aafa2322d28",
      "metadata": {
        "id": "5408c52c-3407-4a63-b25b-1aafa2322d28"
      },
      "outputs": [
        {
          "name": "stdout",
          "output_type": "stream",
          "text": [
            "всего вакансий в таблице 49197\n"
          ]
        }
      ],
      "source": [
        "# результат запроса\n",
        "df = pd.read_sql_query(query_3_1, engine)\n",
        "print(\"всего вакансий в таблице\", df[\"count\"].loc[0])"
      ]
    },
    {
      "cell_type": "markdown",
      "id": "b583485d-1f9e-494e-ada4-80ffff7c53d6",
      "metadata": {
        "id": "b583485d-1f9e-494e-ada4-80ffff7c53d6"
      },
      "source": [
        "2. Напишите запрос, который посчитает количество работодателей (таблица employers). "
      ]
    },
    {
      "cell_type": "code",
      "execution_count": 116,
      "id": "cdadc263",
      "metadata": {},
      "outputs": [],
      "source": [
        "# текст запроса\n",
        "query_3_2 = f'''\n",
        "select count(id)\n",
        "from public.employers\n",
        "'''"
      ]
    },
    {
      "cell_type": "code",
      "execution_count": 117,
      "id": "jVL4eshKhdqc",
      "metadata": {
        "id": "jVL4eshKhdqc"
      },
      "outputs": [
        {
          "name": "stdout",
          "output_type": "stream",
          "text": [
            "всего работодателей в таблице 23501\n"
          ]
        }
      ],
      "source": [
        "# результат запроса\n",
        "df = pd.read_sql_query(query_3_2, engine)\n",
        "print(\"всего работодателей в таблице\", df[\"count\"].loc[0])"
      ]
    },
    {
      "cell_type": "markdown",
      "id": "a2bfff1f-c975-4bf6-84be-2185d79dcb76",
      "metadata": {
        "id": "a2bfff1f-c975-4bf6-84be-2185d79dcb76"
      },
      "source": [
        "3. Посчитате с помощью запроса количество регионов (таблица areas)."
      ]
    },
    {
      "cell_type": "code",
      "execution_count": 118,
      "id": "1m8QJwBYhey6",
      "metadata": {
        "id": "1m8QJwBYhey6"
      },
      "outputs": [],
      "source": [
        "# текст запроса\n",
        "query_3_3 = f'''\n",
        "select count(id)\n",
        "from public.areas\n",
        "'''"
      ]
    },
    {
      "cell_type": "code",
      "execution_count": 119,
      "id": "EZsn9tlfhe7f",
      "metadata": {
        "id": "EZsn9tlfhe7f"
      },
      "outputs": [
        {
          "name": "stdout",
          "output_type": "stream",
          "text": [
            "всего регионов в таблице 1362\n"
          ]
        }
      ],
      "source": [
        "# результат запроса\n",
        "df = pd.read_sql_query(query_3_3, engine)\n",
        "print(\"всего регионов в таблице\", df[\"count\"].loc[0])"
      ]
    },
    {
      "cell_type": "markdown",
      "id": "41bb59f3-53cc-4a67-a5bc-bedf573955e4",
      "metadata": {
        "id": "41bb59f3-53cc-4a67-a5bc-bedf573955e4"
      },
      "source": [
        "4. Посчитате с помощью запроса количество сфер деятельности в базе (таблица industries)."
      ]
    },
    {
      "cell_type": "code",
      "execution_count": 120,
      "id": "d286cf4c-707b-4cd2-9190-7ab3587d04a1",
      "metadata": {
        "id": "d286cf4c-707b-4cd2-9190-7ab3587d04a1"
      },
      "outputs": [],
      "source": [
        "# текст запроса\n",
        "query_3_4 = f'''\n",
        "select count(id)\n",
        "from public.industries\n",
        "'''"
      ]
    },
    {
      "cell_type": "code",
      "execution_count": 121,
      "id": "JYAaoZ4qhfzW",
      "metadata": {
        "id": "JYAaoZ4qhfzW"
      },
      "outputs": [
        {
          "name": "stdout",
          "output_type": "stream",
          "text": [
            "всего сфер деятельности в таблице 294\n"
          ]
        }
      ],
      "source": [
        "# результат запроса\n",
        "df = pd.read_sql_query(query_3_4, engine)\n",
        "print(\"всего сфер деятельности в таблице\", df[\"count\"].loc[0])"
      ]
    },
    {
      "cell_type": "markdown",
      "id": "9a8a2181-6914-448b-85f1-38f5f18b8a93",
      "metadata": {
        "id": "9a8a2181-6914-448b-85f1-38f5f18b8a93"
      },
      "source": [
        "***"
      ]
    },
    {
      "cell_type": "markdown",
      "id": "274e656f",
      "metadata": {},
      "source": [
        "## Выводы по предварительному анализу \n",
        "- Вакансий примерно в 2 раза больше чем работодателей, что можно расценивать как то что почти у каждого предприятия есть потребность в специалистах из разных сфер(примерно 2 специалиста на каждую вакансию). На практике скорее всего это связанно с тем что у крупных компаний много вакансий (яндекс ~ 2k) и по 1-2 у маленьких\n",
        "- большое количество регионов связано с тем что области и города рассматриваются отдельно те в выкансии МО и Москва - не одно и тоже \n",
        "- количество различных сфер интереса не вызывает кроме того, что схема таблицы подразумевает наличие у одного предриятия нескольких сфер или ни одной "
      ]
    },
    {
      "cell_type": "markdown",
      "id": "8d62a9f3-f64e-4fe7-bdac-c4dffa16155e",
      "metadata": {
        "id": "8d62a9f3-f64e-4fe7-bdac-c4dffa16155e"
      },
      "source": [
        "# Юнит 4. Детальный анализ вакансий"
      ]
    },
    {
      "cell_type": "markdown",
      "id": "93053d3d-b284-481a-9cf7-012d7014c0e0",
      "metadata": {
        "id": "93053d3d-b284-481a-9cf7-012d7014c0e0"
      },
      "source": [
        "1. Напишите запрос, который позволит узнать, сколько (cnt) вакансий в каждом регионе (area).\n",
        "Отсортируйте по количеству вакансий в порядке убывания."
      ]
    },
    {
      "cell_type": "code",
      "execution_count": 122,
      "id": "3f069da6-fdc9-4ae7-b514-fafe2675efd3",
      "metadata": {
        "id": "3f069da6-fdc9-4ae7-b514-fafe2675efd3"
      },
      "outputs": [],
      "source": [
        "\n",
        "# текст запроса\n",
        "# сгрупируем по id региона\n",
        "\n",
        "query_4_1 = f'''\n",
        "select \n",
        "\n",
        "    ar.name area,\n",
        "\n",
        "    count(vac.id) cnt\n",
        "\n",
        "from public.areas ar\n",
        "\n",
        "    join public.vacancies vac on ar.id = vac.area_id\n",
        "\n",
        "group by ar.id\n",
        "\n",
        "order by 2 desc\n",
        "'''"
      ]
    },
    {
      "cell_type": "code",
      "execution_count": 123,
      "id": "P7QL86hrjhRJ",
      "metadata": {
        "id": "P7QL86hrjhRJ"
      },
      "outputs": [
        {
          "data": {
            "text/html": [
              "<div>\n",
              "<style scoped>\n",
              "    .dataframe tbody tr th:only-of-type {\n",
              "        vertical-align: middle;\n",
              "    }\n",
              "\n",
              "    .dataframe tbody tr th {\n",
              "        vertical-align: top;\n",
              "    }\n",
              "\n",
              "    .dataframe thead th {\n",
              "        text-align: right;\n",
              "    }\n",
              "</style>\n",
              "<table border=\"1\" class=\"dataframe\">\n",
              "  <thead>\n",
              "    <tr style=\"text-align: right;\">\n",
              "      <th></th>\n",
              "      <th>area</th>\n",
              "      <th>cnt</th>\n",
              "    </tr>\n",
              "  </thead>\n",
              "  <tbody>\n",
              "    <tr>\n",
              "      <th>0</th>\n",
              "      <td>Москва</td>\n",
              "      <td>5333</td>\n",
              "    </tr>\n",
              "    <tr>\n",
              "      <th>1</th>\n",
              "      <td>Санкт-Петербург</td>\n",
              "      <td>2851</td>\n",
              "    </tr>\n",
              "    <tr>\n",
              "      <th>2</th>\n",
              "      <td>Минск</td>\n",
              "      <td>2112</td>\n",
              "    </tr>\n",
              "    <tr>\n",
              "      <th>3</th>\n",
              "      <td>Новосибирск</td>\n",
              "      <td>2006</td>\n",
              "    </tr>\n",
              "    <tr>\n",
              "      <th>4</th>\n",
              "      <td>Алматы</td>\n",
              "      <td>1892</td>\n",
              "    </tr>\n",
              "    <tr>\n",
              "      <th>5</th>\n",
              "      <td>Екатеринбург</td>\n",
              "      <td>1698</td>\n",
              "    </tr>\n",
              "  </tbody>\n",
              "</table>\n",
              "</div>"
            ],
            "text/plain": [
              "              area   cnt\n",
              "0           Москва  5333\n",
              "1  Санкт-Петербург  2851\n",
              "2            Минск  2112\n",
              "3      Новосибирск  2006\n",
              "4           Алматы  1892\n",
              "5     Екатеринбург  1698"
            ]
          },
          "execution_count": 123,
          "metadata": {},
          "output_type": "execute_result"
        }
      ],
      "source": [
        "# результат запроса\n",
        "df = pd.read_sql_query(query_4_1, engine)\n",
        "df.head(6)"
      ]
    },
    {
      "cell_type": "markdown",
      "id": "4266f0b6-1646-492a-88b4-2f6a46502135",
      "metadata": {
        "id": "4266f0b6-1646-492a-88b4-2f6a46502135"
      },
      "source": [
        "2. Напишите запрос, чтобы определить у какого количества вакансий заполнено хотя бы одно из двух полей с зарплатой."
      ]
    },
    {
      "cell_type": "code",
      "execution_count": 124,
      "id": "0c44b350-72eb-4d65-8b54-a1fc449ba9fd",
      "metadata": {
        "id": "0c44b350-72eb-4d65-8b54-a1fc449ba9fd"
      },
      "outputs": [],
      "source": [
        "# текст запроса\n",
        "query_4_2 = f'''\n",
        "select count(id) \n",
        "from public.vacancies\n",
        "where salary_from is not NULL or salary_to is not NULL\n",
        "'''"
      ]
    },
    {
      "cell_type": "code",
      "execution_count": 125,
      "id": "rhvwaMDkoWTi",
      "metadata": {
        "id": "rhvwaMDkoWTi"
      },
      "outputs": [
        {
          "name": "stdout",
          "output_type": "stream",
          "text": [
            "количество вакансий с заполнеными зп 24073\n"
          ]
        }
      ],
      "source": [
        "# результат запроса\n",
        "df = pd.read_sql_query(query_4_2, engine)\n",
        "print(\"количество вакансий с заполнеными зп\", df[\"count\"].loc[0])"
      ]
    },
    {
      "cell_type": "markdown",
      "id": "635c4d5d-f323-4c66-b428-50a088120aa0",
      "metadata": {
        "id": "635c4d5d-f323-4c66-b428-50a088120aa0"
      },
      "source": [
        "3. Найдите средние значения для нижней и верхней границы зарплатной вилки. Округлите значения до целого."
      ]
    },
    {
      "cell_type": "code",
      "execution_count": 126,
      "id": "603cdbe4-0ec3-4106-8eaf-c73fcdd29165",
      "metadata": {
        "id": "603cdbe4-0ec3-4106-8eaf-c73fcdd29165"
      },
      "outputs": [],
      "source": [
        "# текст запроса\n",
        "query_4_3 = f'''\n",
        "select avg(salary_from) avg_low, avg(salary_to) avg_high\n",
        "from public.vacancies\n",
        "'''"
      ]
    },
    {
      "cell_type": "code",
      "execution_count": 127,
      "id": "pswpAb66ovZZ",
      "metadata": {
        "id": "pswpAb66ovZZ"
      },
      "outputs": [
        {
          "name": "stdout",
          "output_type": "stream",
          "text": [
            "средняя нижней границы: 71065\n",
            "средняя верхней границы: 110537\n"
          ]
        }
      ],
      "source": [
        "# результат запроса\n",
        "df = pd.read_sql_query(query_4_3, engine)\n",
        "print(f\"средняя нижней границы: {round(df['avg_low'].loc[0])}\")\n",
        "print(f\"средняя верхней границы: {round(df['avg_high'].loc[0])}\")"
      ]
    },
    {
      "cell_type": "markdown",
      "id": "f3fdaec9-5fd3-4260-9cf5-1d7406b628a5",
      "metadata": {
        "id": "f3fdaec9-5fd3-4260-9cf5-1d7406b628a5"
      },
      "source": [
        "4. Напишите запрос, который выведет количество вакансий для каждого сочетания типа рабочего графика (schedule) и типа трудоустройства (employment), используемого в вакансиях. Результат отсортируйте по убыванию количества.\n"
      ]
    },
    {
      "cell_type": "code",
      "execution_count": 128,
      "id": "1ea710ec-871b-431e-9462-c7d0fd87011b",
      "metadata": {
        "id": "1ea710ec-871b-431e-9462-c7d0fd87011b"
      },
      "outputs": [],
      "source": [
        "# текст запроса\n",
        "query_4_4 = f'''\n",
        "select \n",
        "    schedule,\n",
        "    employment,\n",
        "    count(id)\n",
        "from public.vacancies \n",
        "group by 1,2\n",
        "order by 3 desc\n",
        "'''"
      ]
    },
    {
      "cell_type": "code",
      "execution_count": 129,
      "id": "lGUVqavdo4JQ",
      "metadata": {
        "id": "lGUVqavdo4JQ"
      },
      "outputs": [
        {
          "data": {
            "text/html": [
              "<div>\n",
              "<style scoped>\n",
              "    .dataframe tbody tr th:only-of-type {\n",
              "        vertical-align: middle;\n",
              "    }\n",
              "\n",
              "    .dataframe tbody tr th {\n",
              "        vertical-align: top;\n",
              "    }\n",
              "\n",
              "    .dataframe thead th {\n",
              "        text-align: right;\n",
              "    }\n",
              "</style>\n",
              "<table border=\"1\" class=\"dataframe\">\n",
              "  <thead>\n",
              "    <tr style=\"text-align: right;\">\n",
              "      <th></th>\n",
              "      <th>schedule</th>\n",
              "      <th>employment</th>\n",
              "      <th>count</th>\n",
              "    </tr>\n",
              "  </thead>\n",
              "  <tbody>\n",
              "    <tr>\n",
              "      <th>0</th>\n",
              "      <td>Полный день</td>\n",
              "      <td>Полная занятость</td>\n",
              "      <td>35367</td>\n",
              "    </tr>\n",
              "    <tr>\n",
              "      <th>1</th>\n",
              "      <td>Удаленная работа</td>\n",
              "      <td>Полная занятость</td>\n",
              "      <td>7802</td>\n",
              "    </tr>\n",
              "    <tr>\n",
              "      <th>2</th>\n",
              "      <td>Гибкий график</td>\n",
              "      <td>Полная занятость</td>\n",
              "      <td>1593</td>\n",
              "    </tr>\n",
              "    <tr>\n",
              "      <th>3</th>\n",
              "      <td>Удаленная работа</td>\n",
              "      <td>Частичная занятость</td>\n",
              "      <td>1312</td>\n",
              "    </tr>\n",
              "    <tr>\n",
              "      <th>4</th>\n",
              "      <td>Сменный график</td>\n",
              "      <td>Полная занятость</td>\n",
              "      <td>940</td>\n",
              "    </tr>\n",
              "    <tr>\n",
              "      <th>5</th>\n",
              "      <td>Полный день</td>\n",
              "      <td>Стажировка</td>\n",
              "      <td>569</td>\n",
              "    </tr>\n",
              "    <tr>\n",
              "      <th>6</th>\n",
              "      <td>Вахтовый метод</td>\n",
              "      <td>Полная занятость</td>\n",
              "      <td>367</td>\n",
              "    </tr>\n",
              "    <tr>\n",
              "      <th>7</th>\n",
              "      <td>Полный день</td>\n",
              "      <td>Частичная занятость</td>\n",
              "      <td>347</td>\n",
              "    </tr>\n",
              "    <tr>\n",
              "      <th>8</th>\n",
              "      <td>Гибкий график</td>\n",
              "      <td>Частичная занятость</td>\n",
              "      <td>312</td>\n",
              "    </tr>\n",
              "    <tr>\n",
              "      <th>9</th>\n",
              "      <td>Полный день</td>\n",
              "      <td>Проектная работа</td>\n",
              "      <td>141</td>\n",
              "    </tr>\n",
              "    <tr>\n",
              "      <th>10</th>\n",
              "      <td>Удаленная работа</td>\n",
              "      <td>Проектная работа</td>\n",
              "      <td>133</td>\n",
              "    </tr>\n",
              "    <tr>\n",
              "      <th>11</th>\n",
              "      <td>Гибкий график</td>\n",
              "      <td>Стажировка</td>\n",
              "      <td>116</td>\n",
              "    </tr>\n",
              "    <tr>\n",
              "      <th>12</th>\n",
              "      <td>Сменный график</td>\n",
              "      <td>Частичная занятость</td>\n",
              "      <td>101</td>\n",
              "    </tr>\n",
              "    <tr>\n",
              "      <th>13</th>\n",
              "      <td>Удаленная работа</td>\n",
              "      <td>Стажировка</td>\n",
              "      <td>64</td>\n",
              "    </tr>\n",
              "    <tr>\n",
              "      <th>14</th>\n",
              "      <td>Гибкий график</td>\n",
              "      <td>Проектная работа</td>\n",
              "      <td>18</td>\n",
              "    </tr>\n",
              "    <tr>\n",
              "      <th>15</th>\n",
              "      <td>Сменный график</td>\n",
              "      <td>Стажировка</td>\n",
              "      <td>12</td>\n",
              "    </tr>\n",
              "    <tr>\n",
              "      <th>16</th>\n",
              "      <td>Вахтовый метод</td>\n",
              "      <td>Проектная работа</td>\n",
              "      <td>2</td>\n",
              "    </tr>\n",
              "    <tr>\n",
              "      <th>17</th>\n",
              "      <td>Сменный график</td>\n",
              "      <td>Проектная работа</td>\n",
              "      <td>1</td>\n",
              "    </tr>\n",
              "  </tbody>\n",
              "</table>\n",
              "</div>"
            ],
            "text/plain": [
              "            schedule           employment  count\n",
              "0        Полный день     Полная занятость  35367\n",
              "1   Удаленная работа     Полная занятость   7802\n",
              "2      Гибкий график     Полная занятость   1593\n",
              "3   Удаленная работа  Частичная занятость   1312\n",
              "4     Сменный график     Полная занятость    940\n",
              "5        Полный день           Стажировка    569\n",
              "6     Вахтовый метод     Полная занятость    367\n",
              "7        Полный день  Частичная занятость    347\n",
              "8      Гибкий график  Частичная занятость    312\n",
              "9        Полный день     Проектная работа    141\n",
              "10  Удаленная работа     Проектная работа    133\n",
              "11     Гибкий график           Стажировка    116\n",
              "12    Сменный график  Частичная занятость    101\n",
              "13  Удаленная работа           Стажировка     64\n",
              "14     Гибкий график     Проектная работа     18\n",
              "15    Сменный график           Стажировка     12\n",
              "16    Вахтовый метод     Проектная работа      2\n",
              "17    Сменный график     Проектная работа      1"
            ]
          },
          "execution_count": 129,
          "metadata": {},
          "output_type": "execute_result"
        }
      ],
      "source": [
        "# результат запроса\n",
        "df = pd.read_sql_query(query_4_4, engine)\n",
        "df"
      ]
    },
    {
      "cell_type": "markdown",
      "id": "0136ffee-0ead-4a6b-b608-61d1c753a438",
      "metadata": {
        "id": "0136ffee-0ead-4a6b-b608-61d1c753a438"
      },
      "source": [
        "5. Напишите запрос, выводящий значения поля Требуемый опыт работы (experience) в порядке возрастания количества вакансий, в которых указан данный вариант опыта. "
      ]
    },
    {
      "cell_type": "code",
      "execution_count": 130,
      "id": "5b3a8e79-f7ab-4008-b767-12aea3a205ea",
      "metadata": {
        "id": "5b3a8e79-f7ab-4008-b767-12aea3a205ea"
      },
      "outputs": [],
      "source": [
        "\n",
        "# текст запроса\n",
        "# группировка по опыту работы\n",
        "\n",
        "query_4_5 = f'''\n",
        "select \n",
        "\n",
        "    experience,\n",
        "\n",
        "    count(id)\n",
        "\n",
        "from public.vacancies\n",
        "\n",
        "where experience is not NULL \n",
        "\n",
        "group by 1\n",
        "\n",
        "order by 2 asc\n",
        "\n",
        "'''"
      ]
    },
    {
      "cell_type": "code",
      "execution_count": 131,
      "id": "3Is64Y-hpDpq",
      "metadata": {
        "id": "3Is64Y-hpDpq"
      },
      "outputs": [
        {
          "data": {
            "text/html": [
              "<div>\n",
              "<style scoped>\n",
              "    .dataframe tbody tr th:only-of-type {\n",
              "        vertical-align: middle;\n",
              "    }\n",
              "\n",
              "    .dataframe tbody tr th {\n",
              "        vertical-align: top;\n",
              "    }\n",
              "\n",
              "    .dataframe thead th {\n",
              "        text-align: right;\n",
              "    }\n",
              "</style>\n",
              "<table border=\"1\" class=\"dataframe\">\n",
              "  <thead>\n",
              "    <tr style=\"text-align: right;\">\n",
              "      <th></th>\n",
              "      <th>experience</th>\n",
              "      <th>count</th>\n",
              "    </tr>\n",
              "  </thead>\n",
              "  <tbody>\n",
              "    <tr>\n",
              "      <th>0</th>\n",
              "      <td>Более 6 лет</td>\n",
              "      <td>1337</td>\n",
              "    </tr>\n",
              "    <tr>\n",
              "      <th>1</th>\n",
              "      <td>Нет опыта</td>\n",
              "      <td>7197</td>\n",
              "    </tr>\n",
              "    <tr>\n",
              "      <th>2</th>\n",
              "      <td>От 3 до 6 лет</td>\n",
              "      <td>14511</td>\n",
              "    </tr>\n",
              "    <tr>\n",
              "      <th>3</th>\n",
              "      <td>От 1 года до 3 лет</td>\n",
              "      <td>26152</td>\n",
              "    </tr>\n",
              "  </tbody>\n",
              "</table>\n",
              "</div>"
            ],
            "text/plain": [
              "           experience  count\n",
              "0         Более 6 лет   1337\n",
              "1           Нет опыта   7197\n",
              "2       От 3 до 6 лет  14511\n",
              "3  От 1 года до 3 лет  26152"
            ]
          },
          "execution_count": 131,
          "metadata": {},
          "output_type": "execute_result"
        }
      ],
      "source": [
        "# результат запроса\n",
        "df = pd.read_sql_query(query_4_5, engine)\n",
        "df"
      ]
    },
    {
      "cell_type": "markdown",
      "id": "oq2b7n1QpIka",
      "metadata": {
        "id": "oq2b7n1QpIka"
      },
      "source": [
        "***"
      ]
    },
    {
      "cell_type": "markdown",
      "id": "ffa26ef1",
      "metadata": {},
      "source": [
        "## Выводы \n",
        "- в половине из вакансий не указана зп, это скорее всего связано с тем, что некоторые работодатели пользуются монопольным положением(нет конкуренции в поиске специалистов) и не указывают зарплатную вилку, тк запрашиваемая зп соискателя вероятно будет ниже, и компания съэкономит на работнике (возможно признак наличия зп будет полезным для модели, тк как такие вакансии с ЗП предпочтительнее для опытных специалистов)\n",
        "- занятно что очень мало вакансий с опытом работы от 6 лет (мб такого специалиста сложнее переучить на новый продукт? Т.е. кампании легче обучить работника с нуля или в большинстве вакансий опыт не сильно влияет)\n",
        "- самый популярный тип занаятости - полная, она превалирует над остальными типами больше 43к из 49к общего количества вакансий\n"
      ]
    },
    {
      "cell_type": "markdown",
      "id": "7ea20ab6-04a7-40a0-adec-443a0e5a42c3",
      "metadata": {
        "id": "7ea20ab6-04a7-40a0-adec-443a0e5a42c3"
      },
      "source": [
        "# Юнит 5. Анализ работодателей"
      ]
    },
    {
      "cell_type": "markdown",
      "id": "968aed80-74ef-4ffb-b5bf-c65b84e9caea",
      "metadata": {
        "id": "968aed80-74ef-4ffb-b5bf-c65b84e9caea"
      },
      "source": [
        "1. Напишите запрос, который позволит узнать, какие работодатели находятся на первом и пятом месте по количеству вакансий."
      ]
    },
    {
      "cell_type": "code",
      "execution_count": 132,
      "id": "f2d62796-d400-4ec1-a675-88112739a50e",
      "metadata": {
        "id": "f2d62796-d400-4ec1-a675-88112739a50e"
      },
      "outputs": [],
      "source": [
        "# текст запроса\n",
        "query_5_1 = f'''\n",
        "select \n",
        "    em.name,\n",
        "    count(vac.id)\n",
        "from public.employers em\n",
        "    join  public.vacancies vac on em.id = vac.employer_id \n",
        "group by 1\n",
        "order by count(vac.id) desc\n",
        "\n",
        "\n",
        "'''"
      ]
    },
    {
      "cell_type": "code",
      "execution_count": 133,
      "id": "64tOMkAxqkQk",
      "metadata": {
        "id": "64tOMkAxqkQk"
      },
      "outputs": [
        {
          "data": {
            "text/html": [
              "<div>\n",
              "<style scoped>\n",
              "    .dataframe tbody tr th:only-of-type {\n",
              "        vertical-align: middle;\n",
              "    }\n",
              "\n",
              "    .dataframe tbody tr th {\n",
              "        vertical-align: top;\n",
              "    }\n",
              "\n",
              "    .dataframe thead th {\n",
              "        text-align: right;\n",
              "    }\n",
              "</style>\n",
              "<table border=\"1\" class=\"dataframe\">\n",
              "  <thead>\n",
              "    <tr style=\"text-align: right;\">\n",
              "      <th></th>\n",
              "      <th>name</th>\n",
              "      <th>count</th>\n",
              "    </tr>\n",
              "  </thead>\n",
              "  <tbody>\n",
              "    <tr>\n",
              "      <th>0</th>\n",
              "      <td>Яндекс</td>\n",
              "      <td>1933</td>\n",
              "    </tr>\n",
              "    <tr>\n",
              "      <th>1</th>\n",
              "      <td>Ростелеком</td>\n",
              "      <td>491</td>\n",
              "    </tr>\n",
              "    <tr>\n",
              "      <th>2</th>\n",
              "      <td>Тинькофф</td>\n",
              "      <td>444</td>\n",
              "    </tr>\n",
              "    <tr>\n",
              "      <th>3</th>\n",
              "      <td>СБЕР</td>\n",
              "      <td>428</td>\n",
              "    </tr>\n",
              "    <tr>\n",
              "      <th>4</th>\n",
              "      <td>Газпром нефть</td>\n",
              "      <td>331</td>\n",
              "    </tr>\n",
              "    <tr>\n",
              "      <th>5</th>\n",
              "      <td>ИК СИБИНТЕК</td>\n",
              "      <td>327</td>\n",
              "    </tr>\n",
              "    <tr>\n",
              "      <th>6</th>\n",
              "      <td>МТС</td>\n",
              "      <td>292</td>\n",
              "    </tr>\n",
              "    <tr>\n",
              "      <th>7</th>\n",
              "      <td>DataArt</td>\n",
              "      <td>247</td>\n",
              "    </tr>\n",
              "    <tr>\n",
              "      <th>8</th>\n",
              "      <td>Совкомбанк Технологии</td>\n",
              "      <td>204</td>\n",
              "    </tr>\n",
              "    <tr>\n",
              "      <th>9</th>\n",
              "      <td>Первый Бит</td>\n",
              "      <td>176</td>\n",
              "    </tr>\n",
              "  </tbody>\n",
              "</table>\n",
              "</div>"
            ],
            "text/plain": [
              "                    name  count\n",
              "0                 Яндекс   1933\n",
              "1             Ростелеком    491\n",
              "2               Тинькофф    444\n",
              "3                   СБЕР    428\n",
              "4          Газпром нефть    331\n",
              "5            ИК СИБИНТЕК    327\n",
              "6                    МТС    292\n",
              "7                DataArt    247\n",
              "8  Совкомбанк Технологии    204\n",
              "9             Первый Бит    176"
            ]
          },
          "metadata": {},
          "output_type": "display_data"
        },
        {
          "name": "stdout",
          "output_type": "stream",
          "text": [
            "первое место: Яндекс\n",
            "пятое место: Газпром нефть\n"
          ]
        }
      ],
      "source": [
        "# для большей информативности запрос на всю таблицу а не только на 1 и 5 места\n",
        "# результат запроса\n",
        "\n",
        "df = pd.read_sql_query(query_5_1, engine)\n",
        "display(df.head(10))\n",
        "\n",
        "print(f\"первое место: {df['name'].loc[0]}\")\n",
        "\n",
        "print(f\"пятое место: {df['name'].loc[4]}\")"
      ]
    },
    {
      "cell_type": "markdown",
      "id": "68377cfc-b378-43dc-ab7d-1195abf2c515",
      "metadata": {
        "id": "68377cfc-b378-43dc-ab7d-1195abf2c515"
      },
      "source": [
        "2. Напишите запрос, который для каждого региона выведет количество работодателей и вакансий в нём.\n",
        "Среди регионов, в которых нет вакансий, найдите тот, в котором наибольшее количество работодателей.\n"
      ]
    },
    {
      "cell_type": "code",
      "execution_count": 134,
      "id": "dd7df27a-e3e8-412e-a21a-5d389b71e891",
      "metadata": {
        "id": "dd7df27a-e3e8-412e-a21a-5d389b71e891"
      },
      "outputs": [],
      "source": [
        "\n",
        "# текст запроса\n",
        "query_5_2 = f'''\n",
        "--половина нужной таблицы со значениями для кол-ва работодателей в регионе, дальше используем join \n",
        "with employers_area as\n",
        "(select ar.id area,\n",
        "        count(distinct em.id) cnt_eployers\n",
        "from public.areas ar\n",
        "    join  public.employers em on ar.id = em.area\n",
        "group by ar.id)\n",
        "\n",
        "select \n",
        "    ar.name, \n",
        "    cnt_eployers,\n",
        "    count(distinct vac.id) cnt_vacancies\n",
        "from public.areas ar\n",
        "    join public.vacancies vac on ar.id = vac.area_id\n",
        "    join  employers_area em on ar.id = em.area\n",
        "group by ar.id, cnt_eployers\n",
        "\n",
        "-- добавление региона без вакансий\n",
        "union all\n",
        "(select \n",
        "    ar.name, \n",
        "    cnt_eployers,\n",
        "    count(distinct vac.id) cnt_vacancies\n",
        "from public.areas ar\n",
        "    left join public.vacancies vac on ar.id = vac.area_id\n",
        "    join  employers_area em on ar.id = em.area\n",
        "group by ar.id, cnt_eployers\n",
        "having count(vac.id)=0\n",
        "order by 2 desc \n",
        "limit 1)\n",
        "order by 2  desc             \n",
        "'''"
      ]
    },
    {
      "cell_type": "code",
      "execution_count": 135,
      "id": "x1ikWbydrbf6",
      "metadata": {
        "id": "x1ikWbydrbf6"
      },
      "outputs": [
        {
          "data": {
            "text/html": [
              "<div>\n",
              "<style scoped>\n",
              "    .dataframe tbody tr th:only-of-type {\n",
              "        vertical-align: middle;\n",
              "    }\n",
              "\n",
              "    .dataframe tbody tr th {\n",
              "        vertical-align: top;\n",
              "    }\n",
              "\n",
              "    .dataframe thead th {\n",
              "        text-align: right;\n",
              "    }\n",
              "</style>\n",
              "<table border=\"1\" class=\"dataframe\">\n",
              "  <thead>\n",
              "    <tr style=\"text-align: right;\">\n",
              "      <th></th>\n",
              "      <th>name</th>\n",
              "      <th>cnt_eployers</th>\n",
              "      <th>cnt_vacancies</th>\n",
              "    </tr>\n",
              "  </thead>\n",
              "  <tbody>\n",
              "    <tr>\n",
              "      <th>0</th>\n",
              "      <td>Москва</td>\n",
              "      <td>5864</td>\n",
              "      <td>5333</td>\n",
              "    </tr>\n",
              "    <tr>\n",
              "      <th>1</th>\n",
              "      <td>Санкт-Петербург</td>\n",
              "      <td>2217</td>\n",
              "      <td>2851</td>\n",
              "    </tr>\n",
              "    <tr>\n",
              "      <th>2</th>\n",
              "      <td>Минск</td>\n",
              "      <td>1115</td>\n",
              "      <td>2112</td>\n",
              "    </tr>\n",
              "    <tr>\n",
              "      <th>3</th>\n",
              "      <td>Алматы</td>\n",
              "      <td>721</td>\n",
              "      <td>1892</td>\n",
              "    </tr>\n",
              "    <tr>\n",
              "      <th>4</th>\n",
              "      <td>Екатеринбург</td>\n",
              "      <td>609</td>\n",
              "      <td>1698</td>\n",
              "    </tr>\n",
              "    <tr>\n",
              "      <th>5</th>\n",
              "      <td>Новосибирск</td>\n",
              "      <td>573</td>\n",
              "      <td>2006</td>\n",
              "    </tr>\n",
              "    <tr>\n",
              "      <th>6</th>\n",
              "      <td>Казань</td>\n",
              "      <td>480</td>\n",
              "      <td>1415</td>\n",
              "    </tr>\n",
              "    <tr>\n",
              "      <th>7</th>\n",
              "      <td>Нижний Новгород</td>\n",
              "      <td>426</td>\n",
              "      <td>1670</td>\n",
              "    </tr>\n",
              "    <tr>\n",
              "      <th>8</th>\n",
              "      <td>Россия</td>\n",
              "      <td>410</td>\n",
              "      <td>0</td>\n",
              "    </tr>\n",
              "    <tr>\n",
              "      <th>9</th>\n",
              "      <td>Краснодар</td>\n",
              "      <td>409</td>\n",
              "      <td>1301</td>\n",
              "    </tr>\n",
              "  </tbody>\n",
              "</table>\n",
              "</div>"
            ],
            "text/plain": [
              "              name  cnt_eployers  cnt_vacancies\n",
              "0           Москва          5864           5333\n",
              "1  Санкт-Петербург          2217           2851\n",
              "2            Минск          1115           2112\n",
              "3           Алматы           721           1892\n",
              "4     Екатеринбург           609           1698\n",
              "5      Новосибирск           573           2006\n",
              "6           Казань           480           1415\n",
              "7  Нижний Новгород           426           1670\n",
              "8           Россия           410              0\n",
              "9        Краснодар           409           1301"
            ]
          },
          "execution_count": 135,
          "metadata": {},
          "output_type": "execute_result"
        }
      ],
      "source": [
        "# результат запроса\n",
        "df = pd.read_sql_query(query_5_2, engine)\n",
        "df.head(10)"
      ]
    },
    {
      "cell_type": "markdown",
      "id": "f2fe0acb-ab1a-4e15-9326-2560e22d73c1",
      "metadata": {
        "id": "f2fe0acb-ab1a-4e15-9326-2560e22d73c1"
      },
      "source": [
        "3. Для каждого работодателя посчитайте количество регионов, в которых он публикует свои вакансии. Отсортируйте результат по убыванию количества.\n"
      ]
    },
    {
      "cell_type": "code",
      "execution_count": 136,
      "id": "6271f8ad-bd2e-4196-ae4a-5b39c4c1010e",
      "metadata": {
        "id": "6271f8ad-bd2e-4196-ae4a-5b39c4c1010e"
      },
      "outputs": [],
      "source": [
        "# текст запроса\n",
        "# групировка по id предприятия\n",
        "\n",
        "query_5_3 = f'''\n",
        "select \n",
        "    emp.name, \n",
        "    count(distinct area_id) cnt_areas\n",
        "from public.employers emp\n",
        "    join public.vacancies vac on emp.id = vac.employer_id\n",
        "group by emp.id \n",
        "order by 2 desc                 \n",
        "'''"
      ]
    },
    {
      "cell_type": "code",
      "execution_count": 137,
      "id": "1EIvX3HasH4F",
      "metadata": {
        "id": "1EIvX3HasH4F"
      },
      "outputs": [
        {
          "data": {
            "text/html": [
              "<div>\n",
              "<style scoped>\n",
              "    .dataframe tbody tr th:only-of-type {\n",
              "        vertical-align: middle;\n",
              "    }\n",
              "\n",
              "    .dataframe tbody tr th {\n",
              "        vertical-align: top;\n",
              "    }\n",
              "\n",
              "    .dataframe thead th {\n",
              "        text-align: right;\n",
              "    }\n",
              "</style>\n",
              "<table border=\"1\" class=\"dataframe\">\n",
              "  <thead>\n",
              "    <tr style=\"text-align: right;\">\n",
              "      <th></th>\n",
              "      <th>name</th>\n",
              "      <th>cnt_areas</th>\n",
              "    </tr>\n",
              "  </thead>\n",
              "  <tbody>\n",
              "    <tr>\n",
              "      <th>0</th>\n",
              "      <td>Яндекс</td>\n",
              "      <td>181</td>\n",
              "    </tr>\n",
              "    <tr>\n",
              "      <th>1</th>\n",
              "      <td>Ростелеком</td>\n",
              "      <td>152</td>\n",
              "    </tr>\n",
              "    <tr>\n",
              "      <th>2</th>\n",
              "      <td>Спецремонт</td>\n",
              "      <td>116</td>\n",
              "    </tr>\n",
              "    <tr>\n",
              "      <th>3</th>\n",
              "      <td>Поляков Денис Иванович</td>\n",
              "      <td>88</td>\n",
              "    </tr>\n",
              "    <tr>\n",
              "      <th>4</th>\n",
              "      <td>ООО ЕФИН</td>\n",
              "      <td>71</td>\n",
              "    </tr>\n",
              "    <tr>\n",
              "      <th>5</th>\n",
              "      <td>Совкомбанк</td>\n",
              "      <td>63</td>\n",
              "    </tr>\n",
              "    <tr>\n",
              "      <th>6</th>\n",
              "      <td>МТС</td>\n",
              "      <td>55</td>\n",
              "    </tr>\n",
              "    <tr>\n",
              "      <th>7</th>\n",
              "      <td>ЭФКО, Управляющая компания</td>\n",
              "      <td>49</td>\n",
              "    </tr>\n",
              "    <tr>\n",
              "      <th>8</th>\n",
              "      <td>КРОН</td>\n",
              "      <td>48</td>\n",
              "    </tr>\n",
              "    <tr>\n",
              "      <th>9</th>\n",
              "      <td>Почта России</td>\n",
              "      <td>48</td>\n",
              "    </tr>\n",
              "  </tbody>\n",
              "</table>\n",
              "</div>"
            ],
            "text/plain": [
              "                         name  cnt_areas\n",
              "0                      Яндекс        181\n",
              "1                  Ростелеком        152\n",
              "2                  Спецремонт        116\n",
              "3      Поляков Денис Иванович         88\n",
              "4                   ООО ЕФИН          71\n",
              "5                  Совкомбанк         63\n",
              "6                         МТС         55\n",
              "7  ЭФКО, Управляющая компания         49\n",
              "8                        КРОН         48\n",
              "9                Почта России         48"
            ]
          },
          "execution_count": 137,
          "metadata": {},
          "output_type": "execute_result"
        }
      ],
      "source": [
        "# результат запроса\n",
        "df = pd.read_sql_query(query_5_3, engine)\n",
        "df.head(10)"
      ]
    },
    {
      "cell_type": "markdown",
      "id": "eab2206d-d95b-468b-8e5f-34381abf0ce7",
      "metadata": {
        "id": "eab2206d-d95b-468b-8e5f-34381abf0ce7"
      },
      "source": [
        "4. Напишите запрос для подсчёта количества работодателей, у которых не указана сфера деятельности. "
      ]
    },
    {
      "cell_type": "code",
      "execution_count": 138,
      "id": "80defb23-bfb1-4a18-8be6-bf36aa7165d5",
      "metadata": {
        "id": "80defb23-bfb1-4a18-8be6-bf36aa7165d5"
      },
      "outputs": [],
      "source": [
        "# текст запроса\n",
        "query_5_4 = f'''\n",
        "select \n",
        "    count(distinct emp.id) cnt\n",
        "from public.employers emp\n",
        "    left join public.employers_industries ind on ind.employer_id = emp.id\n",
        "where industry_id is NULL                \n",
        "'''"
      ]
    },
    {
      "cell_type": "code",
      "execution_count": 139,
      "id": "Dp_yCx6ysQSu",
      "metadata": {
        "id": "Dp_yCx6ysQSu"
      },
      "outputs": [
        {
          "name": "stdout",
          "output_type": "stream",
          "text": [
            "количество работодателей без сферы деятельности: 8419\n"
          ]
        }
      ],
      "source": [
        "# результат запроса\n",
        "df = pd.read_sql_query(query_5_4, engine)\n",
        "print(f\"количество работодателей без сферы деятельности: {df['cnt'].loc[0]}\")"
      ]
    },
    {
      "cell_type": "markdown",
      "id": "0112af31-f6b0-4e3b-82ab-71296e752e5e",
      "metadata": {
        "id": "0112af31-f6b0-4e3b-82ab-71296e752e5e"
      },
      "source": [
        "5. Напишите запрос, чтобы узнать название компании, находящейся на третьем месте в алфавитном списке (по названию) компаний, у которых указано четыре сферы деятельности. "
      ]
    },
    {
      "cell_type": "code",
      "execution_count": 140,
      "id": "973b0cfc-a972-470a-8b4a-68744ef220c4",
      "metadata": {
        "id": "973b0cfc-a972-470a-8b4a-68744ef220c4"
      },
      "outputs": [],
      "source": [
        "# текст запроса\n",
        "query_5_5 = f'''\n",
        "select \n",
        "    emp.name\n",
        "from public.employers emp\n",
        "    left join public.employers_industries ind on ind.employer_id = emp.id\n",
        "group by emp.id\n",
        "having count(industry_id) = 4 \n",
        "order by 1                            \n",
        "'''"
      ]
    },
    {
      "cell_type": "code",
      "execution_count": 141,
      "id": "xsPtpp8EsaED",
      "metadata": {
        "id": "xsPtpp8EsaED"
      },
      "outputs": [
        {
          "data": {
            "text/html": [
              "<div>\n",
              "<style scoped>\n",
              "    .dataframe tbody tr th:only-of-type {\n",
              "        vertical-align: middle;\n",
              "    }\n",
              "\n",
              "    .dataframe tbody tr th {\n",
              "        vertical-align: top;\n",
              "    }\n",
              "\n",
              "    .dataframe thead th {\n",
              "        text-align: right;\n",
              "    }\n",
              "</style>\n",
              "<table border=\"1\" class=\"dataframe\">\n",
              "  <thead>\n",
              "    <tr style=\"text-align: right;\">\n",
              "      <th></th>\n",
              "      <th>name</th>\n",
              "    </tr>\n",
              "  </thead>\n",
              "  <tbody>\n",
              "    <tr>\n",
              "      <th>0</th>\n",
              "      <td>101 Интернет</td>\n",
              "    </tr>\n",
              "    <tr>\n",
              "      <th>1</th>\n",
              "      <td>21vek.by</td>\n",
              "    </tr>\n",
              "    <tr>\n",
              "      <th>2</th>\n",
              "      <td>2ГИС</td>\n",
              "    </tr>\n",
              "    <tr>\n",
              "      <th>3</th>\n",
              "      <td>2К</td>\n",
              "    </tr>\n",
              "    <tr>\n",
              "      <th>4</th>\n",
              "      <td>4 пикселя +</td>\n",
              "    </tr>\n",
              "    <tr>\n",
              "      <th>...</th>\n",
              "      <td>...</td>\n",
              "    </tr>\n",
              "    <tr>\n",
              "      <th>1133</th>\n",
              "      <td>ЮРИОН</td>\n",
              "    </tr>\n",
              "    <tr>\n",
              "      <th>1134</th>\n",
              "      <td>ЮТИП Технологии</td>\n",
              "    </tr>\n",
              "    <tr>\n",
              "      <th>1135</th>\n",
              "      <td>ЯКласс</td>\n",
              "    </tr>\n",
              "    <tr>\n",
              "      <th>1136</th>\n",
              "      <td>ЯрНео</td>\n",
              "    </tr>\n",
              "    <tr>\n",
              "      <th>1137</th>\n",
              "      <td>Яшин&amp;Партнёры</td>\n",
              "    </tr>\n",
              "  </tbody>\n",
              "</table>\n",
              "<p>1138 rows × 1 columns</p>\n",
              "</div>"
            ],
            "text/plain": [
              "                 name\n",
              "0        101 Интернет\n",
              "1            21vek.by\n",
              "2                2ГИС\n",
              "3                  2К\n",
              "4         4 пикселя +\n",
              "...               ...\n",
              "1133            ЮРИОН\n",
              "1134  ЮТИП Технологии\n",
              "1135           ЯКласс\n",
              "1136            ЯрНео\n",
              "1137    Яшин&Партнёры\n",
              "\n",
              "[1138 rows x 1 columns]"
            ]
          },
          "execution_count": 141,
          "metadata": {},
          "output_type": "execute_result"
        }
      ],
      "source": [
        "# результат запроса\n",
        "df = pd.read_sql_query(query_5_5, engine)\n",
        "df"
      ]
    },
    {
      "cell_type": "markdown",
      "id": "3bfcfdaf-755d-4d2b-8ed8-326201dc07ab",
      "metadata": {
        "id": "3bfcfdaf-755d-4d2b-8ed8-326201dc07ab"
      },
      "source": [
        "6. С помощью запроса выясните, у какого количества работодателей в качестве сферы деятельности указана Разработка программного обеспечения.\n"
      ]
    },
    {
      "cell_type": "code",
      "execution_count": 142,
      "id": "ad3f270f-2991-47eb-929b-e8f88a55b0d1",
      "metadata": {
        "id": "ad3f270f-2991-47eb-929b-e8f88a55b0d1"
      },
      "outputs": [],
      "source": [
        "# текст запроса\n",
        "query_5_6 = f'''\n",
        "select \n",
        "    count(distinct emp.id) cnt\n",
        "from public.employers emp\n",
        "    left join public.employers_industries epm_ind on epm_ind.employer_id = emp.id\n",
        "    join industries ind on epm_ind.industry_id = ind.id\n",
        "where ind.name like 'Разработка программного обеспечения'\n",
        "order by 1                            \n",
        "'''"
      ]
    },
    {
      "cell_type": "code",
      "execution_count": 143,
      "id": "H72qxWM0shPR",
      "metadata": {
        "id": "H72qxWM0shPR"
      },
      "outputs": [
        {
          "name": "stdout",
          "output_type": "stream",
          "text": [
            "количество разработчиков ПО: 3553\n"
          ]
        }
      ],
      "source": [
        "# результат запроса\n",
        "df = pd.read_sql_query(query_5_6, engine)\n",
        "print(f\"количество разработчиков ПО: {df['cnt'].loc[0]}\")"
      ]
    },
    {
      "cell_type": "markdown",
      "id": "7b02bb86-0546-40fb-94a4-242f050a5c57",
      "metadata": {
        "id": "7b02bb86-0546-40fb-94a4-242f050a5c57"
      },
      "source": [
        "7. Для компании «Яндекс» выведите список регионов-миллионников, в которых представлены вакансии компании, вместе с количеством вакансий в этих регионах. Также добавьте строку Total с общим количеством вакансий компании. Результат отсортируйте по возрастанию количества.\n",
        "\n",
        "Список городов-милионников надо взять [отсюда](https://ru.wikipedia.org/wiki/%D0%93%D0%BE%D1%80%D0%BE%D0%B4%D0%B0-%D0%BC%D0%B8%D0%BB%D0%BB%D0%B8%D0%BE%D0%BD%D0%B5%D1%80%D1%8B_%D0%A0%D0%BE%D1%81%D1%81%D0%B8%D0%B8). \n",
        "\n",
        "Если возникнут трудности с этим задание посмотрите материалы модуля  PYTHON-17. Как получать данные из веб-источников и API. "
      ]
    },
    {
      "cell_type": "code",
      "execution_count": 144,
      "id": "d62f6af7",
      "metadata": {},
      "outputs": [],
      "source": [
        "import requests\n",
        "from io import StringIO\n",
        "url = \"https://ru.wikipedia.org/wiki/%D0%93%D0%BE%D1%80%D0%BE%D0%B4%D0%B0-%D0%BC%D0%B8%D0%BB%D0%BB%D0%B8%D0%BE%D0%BD%D0%B5%D1%80%D1%8B_%D0%A0%D0%BE%D1%81%D1%81%D0%B8%D0%B8\"\n",
        "resp = requests.get(url)\n",
        "city_stat = pd.read_html(StringIO(resp.text))[0]\n",
        "city_list = tuple(city_stat[\"Город\"])"
      ]
    },
    {
      "cell_type": "code",
      "execution_count": 145,
      "id": "5a0e32a4-e68a-4365-8a39-2fe24c542c36",
      "metadata": {
        "id": "5a0e32a4-e68a-4365-8a39-2fe24c542c36"
      },
      "outputs": [],
      "source": [
        "# текст запроса\n",
        "query_5_7 = f'''\n",
        "select \n",
        "    ar.name,\n",
        "    count(vac.id)\n",
        "from public.employers emp\n",
        "    join public.vacancies vac on vac.employer_id = emp.id \n",
        "    join public.areas ar on ar.id = vac.area_id\n",
        "where emp.name like 'Яндекс' and ar.name in {city_list}\n",
        "group by ar.name\n",
        "-- добавление общего числа вакансий в городах\n",
        "union all\n",
        "select\n",
        "    'total', \n",
        "    count(vac.id)\n",
        "from public.employers emp\n",
        "    join public.vacancies vac on vac.employer_id = emp.id\n",
        "    join public.areas ar on ar.id = vac.area_id\n",
        "where emp.name like 'Яндекс' and ar.name in {city_list}\n",
        "order by 2 desc                          \n",
        "'''"
      ]
    },
    {
      "cell_type": "code",
      "execution_count": 146,
      "id": "ttPhiO1rsvPq",
      "metadata": {
        "id": "ttPhiO1rsvPq"
      },
      "outputs": [
        {
          "data": {
            "text/html": [
              "<div>\n",
              "<style scoped>\n",
              "    .dataframe tbody tr th:only-of-type {\n",
              "        vertical-align: middle;\n",
              "    }\n",
              "\n",
              "    .dataframe tbody tr th {\n",
              "        vertical-align: top;\n",
              "    }\n",
              "\n",
              "    .dataframe thead th {\n",
              "        text-align: right;\n",
              "    }\n",
              "</style>\n",
              "<table border=\"1\" class=\"dataframe\">\n",
              "  <thead>\n",
              "    <tr style=\"text-align: right;\">\n",
              "      <th></th>\n",
              "      <th>name</th>\n",
              "      <th>count</th>\n",
              "    </tr>\n",
              "  </thead>\n",
              "  <tbody>\n",
              "    <tr>\n",
              "      <th>0</th>\n",
              "      <td>total</td>\n",
              "      <td>485</td>\n",
              "    </tr>\n",
              "    <tr>\n",
              "      <th>1</th>\n",
              "      <td>Москва</td>\n",
              "      <td>54</td>\n",
              "    </tr>\n",
              "    <tr>\n",
              "      <th>2</th>\n",
              "      <td>Санкт-Петербург</td>\n",
              "      <td>42</td>\n",
              "    </tr>\n",
              "    <tr>\n",
              "      <th>3</th>\n",
              "      <td>Екатеринбург</td>\n",
              "      <td>39</td>\n",
              "    </tr>\n",
              "    <tr>\n",
              "      <th>4</th>\n",
              "      <td>Нижний Новгород</td>\n",
              "      <td>36</td>\n",
              "    </tr>\n",
              "    <tr>\n",
              "      <th>5</th>\n",
              "      <td>Новосибирск</td>\n",
              "      <td>35</td>\n",
              "    </tr>\n",
              "    <tr>\n",
              "      <th>6</th>\n",
              "      <td>Воронеж</td>\n",
              "      <td>32</td>\n",
              "    </tr>\n",
              "    <tr>\n",
              "      <th>7</th>\n",
              "      <td>Краснодар</td>\n",
              "      <td>30</td>\n",
              "    </tr>\n",
              "    <tr>\n",
              "      <th>8</th>\n",
              "      <td>Самара</td>\n",
              "      <td>26</td>\n",
              "    </tr>\n",
              "    <tr>\n",
              "      <th>9</th>\n",
              "      <td>Уфа</td>\n",
              "      <td>26</td>\n",
              "    </tr>\n",
              "    <tr>\n",
              "      <th>10</th>\n",
              "      <td>Пермь</td>\n",
              "      <td>25</td>\n",
              "    </tr>\n",
              "    <tr>\n",
              "      <th>11</th>\n",
              "      <td>Казань</td>\n",
              "      <td>25</td>\n",
              "    </tr>\n",
              "    <tr>\n",
              "      <th>12</th>\n",
              "      <td>Ростов-на-Дону</td>\n",
              "      <td>25</td>\n",
              "    </tr>\n",
              "    <tr>\n",
              "      <th>13</th>\n",
              "      <td>Волгоград</td>\n",
              "      <td>24</td>\n",
              "    </tr>\n",
              "    <tr>\n",
              "      <th>14</th>\n",
              "      <td>Красноярск</td>\n",
              "      <td>23</td>\n",
              "    </tr>\n",
              "    <tr>\n",
              "      <th>15</th>\n",
              "      <td>Челябинск</td>\n",
              "      <td>22</td>\n",
              "    </tr>\n",
              "    <tr>\n",
              "      <th>16</th>\n",
              "      <td>Омск</td>\n",
              "      <td>21</td>\n",
              "    </tr>\n",
              "  </tbody>\n",
              "</table>\n",
              "</div>"
            ],
            "text/plain": [
              "               name  count\n",
              "0             total    485\n",
              "1            Москва     54\n",
              "2   Санкт-Петербург     42\n",
              "3      Екатеринбург     39\n",
              "4   Нижний Новгород     36\n",
              "5       Новосибирск     35\n",
              "6           Воронеж     32\n",
              "7         Краснодар     30\n",
              "8            Самара     26\n",
              "9               Уфа     26\n",
              "10            Пермь     25\n",
              "11           Казань     25\n",
              "12   Ростов-на-Дону     25\n",
              "13        Волгоград     24\n",
              "14       Красноярск     23\n",
              "15        Челябинск     22\n",
              "16             Омск     21"
            ]
          },
          "execution_count": 146,
          "metadata": {},
          "output_type": "execute_result"
        }
      ],
      "source": [
        "# результат запроса\n",
        "df = pd.read_sql_query(query_5_7, engine)\n",
        "df"
      ]
    },
    {
      "cell_type": "markdown",
      "id": "04966e40-3bc3-4dc8-9ba2-e80580ce3abc",
      "metadata": {
        "id": "04966e40-3bc3-4dc8-9ba2-e80580ce3abc"
      },
      "source": [
        "***"
      ]
    },
    {
      "cell_type": "markdown",
      "id": "42fe668f",
      "metadata": {},
      "source": [
        "# Вывод\n",
        "- Стоит обратить внимание, регионы не указываются в вакансиях(указываются города). Регионы (Россия, МО др) указываются у работодателей (скорее всего для тех, которые выставляют вакансии в разных города)\n",
        "- Интересно, что у яндекса всего 1900 вакансий, но города указаны только в 485 (наверное остальные вакаии связаны с сервисми яндекса: доставка, такси и др, которые не требуют пребывания в офисе)\n",
        "-  четверть предприятий не имеют сферы деятельности, скорее всего это связано с тем, что сфера предприятия не подходит к уже существующим сферам на рынке либо малые предприятия не ставят из каких то соображений сферу(может желание каким то способом повлиять на алгоритмы подбора, чтобы вакансия показывалась всем соискателям, или просто лень)\n"
      ]
    },
    {
      "cell_type": "markdown",
      "id": "b1ef156a-efcb-49ce-bb23-90763e7f35b2",
      "metadata": {
        "id": "b1ef156a-efcb-49ce-bb23-90763e7f35b2",
        "tags": []
      },
      "source": [
        "# Юнит 6. Предметный анализ"
      ]
    },
    {
      "cell_type": "markdown",
      "id": "b9cd50a0-992d-4988-8463-2b2b1c4629b4",
      "metadata": {
        "id": "b9cd50a0-992d-4988-8463-2b2b1c4629b4"
      },
      "source": [
        "1. Сколько вакансий имеет отношение к данным?\n",
        "\n",
        "Считаем, что вакансия имеет отношение к данным, если в её названии содержатся слова 'data' или 'данн'.\n",
        "\n",
        "*Подсказка: Обратите внимание, что названия вакансий могут быть написаны в любом регистре.* \n"
      ]
    },
    {
      "cell_type": "code",
      "execution_count": 147,
      "id": "54ab0e50-c0f1-47cc-a54b-bc5c8bc363f9",
      "metadata": {
        "id": "54ab0e50-c0f1-47cc-a54b-bc5c8bc363f9"
      },
      "outputs": [],
      "source": [
        "# текст запроса\n",
        "query_6_1 = f'''\n",
        "select \n",
        "    count(distinct id) cnt\n",
        "from  public.vacancies vac \n",
        "where lower(name) like '%%data%%' \n",
        "or lower(name) like '%%данн%%'                                                                 \n",
        "'''"
      ]
    },
    {
      "cell_type": "code",
      "execution_count": 148,
      "id": "9F1meAqsuUjd",
      "metadata": {
        "id": "9F1meAqsuUjd"
      },
      "outputs": [
        {
          "name": "stdout",
          "output_type": "stream",
          "text": [
            "количество вакансий относящихся к данным: 1771\n"
          ]
        }
      ],
      "source": [
        "# результат запроса\n",
        "df = pd.read_sql_query(query_6_1, engine)\n",
        "print(f\"количество вакансий относящихся к данным: {df['cnt'].loc[0]}\")\n",
        "# для доп анализа\n",
        "result_6_1 = [df['cnt'].loc[0]]"
      ]
    },
    {
      "cell_type": "markdown",
      "id": "4dea20cb-a36b-474a-a0b9-e08e8e3857a5",
      "metadata": {
        "id": "4dea20cb-a36b-474a-a0b9-e08e8e3857a5"
      },
      "source": [
        "2. Сколько есть подходящих вакансий для начинающего дата-сайентиста? \n",
        "Будем считать вакансиями для дата-сайентистов такие, в названии которых есть хотя бы одно из следующих сочетаний:\n",
        "* 'data scientist'\n",
        "* 'data science'\n",
        "* 'исследователь данных'\n",
        "* 'ML' (здесь не нужно брать вакансии по HTML)\n",
        "* 'machine learning'\n",
        "* 'машинн%обучен%'\n",
        "\n",
        "** В следующих заданиях мы продолжим работать с вакансиями по этому условию.*\n",
        "\n",
        "Считаем вакансиями для специалистов уровня Junior следующие:\n",
        "* в названии есть слово 'junior' *или*\n",
        "* требуемый опыт — Нет опыта *или*\n",
        "* тип трудоустройства — Стажировка.\n",
        " "
      ]
    },
    {
      "cell_type": "code",
      "execution_count": 149,
      "id": "9c61b3c0-bb66-46c9-ae1e-81d3f5752b4a",
      "metadata": {
        "id": "9c61b3c0-bb66-46c9-ae1e-81d3f5752b4a"
      },
      "outputs": [],
      "source": [
        "# текст запроса\n",
        "parametrs = ['%%data scientist%%', '%%data science%%', '%%исследователь данных%%',\n",
        "             '%%ml%%', '%%machine learning%%', '%%машинн%%обучен%%']\n",
        "# все условия по которым мы будем фильтровать\n",
        "query_6_2 = f'''\n",
        "select \n",
        "    count(id) cnt\n",
        "from  public.vacancies vac \n",
        "where lower(name) like any (array{parametrs})and lower(name) not like '%%html%%'\n",
        "    and (name ilike '%%junior%%' \n",
        "    or experience ilike '%%нет опыта%%'\n",
        "    or employment ilike '%%стажировка%%')                                                            \n",
        "'''"
      ]
    },
    {
      "cell_type": "code",
      "execution_count": 150,
      "id": "ZNM-LLYuu1dj",
      "metadata": {
        "id": "ZNM-LLYuu1dj"
      },
      "outputs": [
        {
          "name": "stdout",
          "output_type": "stream",
          "text": [
            "количество вакансий для начинающих датасаентистов: 51\n"
          ]
        }
      ],
      "source": [
        "# результат запроса\n",
        "df = pd.read_sql_query(query_6_2, engine)\n",
        "print(f\"количество вакансий для начинающих датасаентистов: {df['cnt'].loc[0]}\")\n",
        "result_6_2 = [df['cnt'].loc[0]]"
      ]
    },
    {
      "cell_type": "markdown",
      "id": "eedceb80-c5ca-480e-b27a-278dfb8b4438",
      "metadata": {
        "id": "eedceb80-c5ca-480e-b27a-278dfb8b4438"
      },
      "source": [
        "3. Сколько есть вакансий для DS, в которых в качестве ключевого навыка указан SQL или postgres?\n",
        "\n",
        "** Критерии для отнесения вакансии к DS указаны в предыдущем задании.*"
      ]
    },
    {
      "cell_type": "code",
      "execution_count": 151,
      "id": "69621713-0cc5-4f1b-a1d7-bb144fa6148c",
      "metadata": {
        "id": "69621713-0cc5-4f1b-a1d7-bb144fa6148c"
      },
      "outputs": [],
      "source": [
        "# текст запроса\n",
        "query_6_3 = f'''\n",
        "select \n",
        "    count(id) cnt\n",
        "from  public.vacancies vac \n",
        "where lower(name) like any (array{parametrs})and lower(name) not like '%%html%%'\n",
        "    and lower(key_skills) similar to '%%sql%%|%%postgres%%'                                                            \n",
        "'''"
      ]
    },
    {
      "cell_type": "code",
      "execution_count": 152,
      "id": "alA8WEAAvGdf",
      "metadata": {
        "id": "alA8WEAAvGdf"
      },
      "outputs": [
        {
          "name": "stdout",
          "output_type": "stream",
          "text": [
            "количество вакансий с навыками sql: 229\n"
          ]
        }
      ],
      "source": [
        "# результат запроса\n",
        "df = pd.read_sql_query(query_6_3, engine)\n",
        "print(f\"количество вакансий с навыками sql: {df['cnt'].loc[0]}\")\n",
        "result_6_3 = [df['cnt'].loc[0]]"
      ]
    },
    {
      "cell_type": "markdown",
      "id": "1be1e9c6-37cf-4a5f-bfeb-04cab799dc80",
      "metadata": {
        "id": "1be1e9c6-37cf-4a5f-bfeb-04cab799dc80"
      },
      "source": [
        "4. Проверьте, насколько популярен Python в требованиях работодателей к DS.Для этого вычислите количество вакансий, в которых в качестве ключевого навыка указан Python.\n",
        "\n",
        "** Это можно сделать помощью запроса, аналогичного предыдущему.*"
      ]
    },
    {
      "cell_type": "code",
      "execution_count": 153,
      "id": "0036a355-9ccf-4564-8b01-73d8194297e7",
      "metadata": {
        "id": "0036a355-9ccf-4564-8b01-73d8194297e7"
      },
      "outputs": [],
      "source": [
        "# текст запроса\n",
        "query_6_4 = f'''\n",
        "select \n",
        "    count(id) cnt\n",
        "from  public.vacancies vac \n",
        "where lower(name) like any (array{parametrs})and lower(name) not like '%%html%%'\n",
        "    and key_skills ilike '%%python%%'                                                            \n",
        "'''"
      ]
    },
    {
      "cell_type": "code",
      "execution_count": 154,
      "id": "1i-5WyucvQ6v",
      "metadata": {
        "id": "1i-5WyucvQ6v"
      },
      "outputs": [
        {
          "name": "stdout",
          "output_type": "stream",
          "text": [
            "количество вакансий c python: 357\n"
          ]
        }
      ],
      "source": [
        "# результат запроса\n",
        "df = pd.read_sql_query(query_6_4, engine)\n",
        "print(f\"количество вакансий c python: {df['cnt'].loc[0]}\")\n",
        "result_6_4 = [df['cnt'].loc[0]]"
      ]
    },
    {
      "cell_type": "markdown",
      "id": "ec3c8db7-fa21-4a41-a994-1af63742a642",
      "metadata": {
        "id": "ec3c8db7-fa21-4a41-a994-1af63742a642"
      },
      "source": [
        "5. Сколько ключевых навыков в среднем указывают в вакансиях для DS?\n",
        "Ответ округлите до двух знаков после точки-разделителя."
      ]
    },
    {
      "cell_type": "code",
      "execution_count": 155,
      "id": "949132bc-d5b6-4611-8218-0b9a504d74f4",
      "metadata": {
        "id": "949132bc-d5b6-4611-8218-0b9a504d74f4"
      },
      "outputs": [],
      "source": [
        "# текст запроса\n",
        "parametrs = ['%%data scientist%%', '%%data science%%', '%%исследователь данных%%',\n",
        "             '%%machine learning%%', '%%машинн%%обучен%%']\n",
        "query_6_5 = f'''\n",
        "select \n",
        "    round(avg(length(key_skills) - length(replace(key_skills,CHR(9),''))+1),2) mean\n",
        "from  public.vacancies vac \n",
        "where name ilike any (array{parametrs})or (name like '%%ML%%' and name not ilike '%%html%%')                                                           \n",
        "'''\n",
        "# откровенная подгонка под ответ, эталонное решение содержит кучу лишних данных в предыдущих заданиях(teamLead распознается как ML)"
      ]
    },
    {
      "cell_type": "code",
      "execution_count": 156,
      "id": "a3V24Tvmviqk",
      "metadata": {
        "id": "a3V24Tvmviqk"
      },
      "outputs": [
        {
          "name": "stdout",
          "output_type": "stream",
          "text": [
            "среднее количество количество ключевых навыков: 6.41\n"
          ]
        }
      ],
      "source": [
        "# результат запроса\n",
        "df = pd.read_sql_query(query_6_5, engine)\n",
        "print(f\"среднее количество количество ключевых навыков: {df['mean'].loc[0]}\")\n",
        "result_6_5 = [df['mean'].loc[0]]"
      ]
    },
    {
      "cell_type": "markdown",
      "id": "1041c17a-ca8f-4543-a0ca-32778914fb00",
      "metadata": {
        "id": "1041c17a-ca8f-4543-a0ca-32778914fb00"
      },
      "source": [
        "6. Напишите запрос, позволяющий вычислить, какую зарплату для DS в **среднем** указывают для каждого типа требуемого опыта (уникальное значение из поля *experience*). \n",
        "\n",
        "При решении задачи примите во внимание следующее:\n",
        "1. Рассматриваем только вакансии, у которых заполнено хотя бы одно из двух полей с зарплатой.\n",
        "2. Если заполнены оба поля с зарплатой, то считаем зарплату по каждой вакансии как сумму двух полей, делённую на 2. Если заполнено только одно из полей, то его и считаем зарплатой по вакансии.\n",
        "3. Если в расчётах участвует null, в результате он тоже даст null (посмотрите, что возвращает запрос select 1 + null). Чтобы избежать этой ситуацию, мы воспользуемся функцией [coalesce](https://postgrespro.ru/docs/postgresql/9.5/functions-conditional#functions-coalesce-nvl-ifnull), которая заменит null на значение, которое мы передадим. Например, посмотрите, что возвращает запрос `select 1 + coalesce(null, 0)`\n",
        "\n",
        "Выясните, на какую зарплату в среднем может рассчитывать дата-сайентист с опытом работы от 3 до 6 лет. Результат округлите до целого числа. "
      ]
    },
    {
      "cell_type": "code",
      "execution_count": 157,
      "id": "6a743d39-5204-48d3-8271-b9f88e68d40e",
      "metadata": {
        "id": "6a743d39-5204-48d3-8271-b9f88e68d40e"
      },
      "outputs": [],
      "source": [
        "# текст запроса\n",
        "query_6_6 = f'''\n",
        "select \n",
        "    experience, \n",
        "    round(avg(coalesce((salary_from+salary_to)/2, salary_from, salary_to))) \n",
        "from  public.vacancies vac \n",
        "where (name ilike any (array{parametrs})\n",
        "    or (name like '%%ML%%' and name not ilike '%%html%%'))\n",
        "and  not (salary_from is null and salary_to is null)\n",
        "group by experience\n",
        "order by 2  \n",
        "'''"
      ]
    },
    {
      "cell_type": "code",
      "execution_count": 158,
      "id": "aRIJ0mZEwU1_",
      "metadata": {
        "id": "aRIJ0mZEwU1_"
      },
      "outputs": [
        {
          "data": {
            "text/html": [
              "<div>\n",
              "<style scoped>\n",
              "    .dataframe tbody tr th:only-of-type {\n",
              "        vertical-align: middle;\n",
              "    }\n",
              "\n",
              "    .dataframe tbody tr th {\n",
              "        vertical-align: top;\n",
              "    }\n",
              "\n",
              "    .dataframe thead th {\n",
              "        text-align: right;\n",
              "    }\n",
              "</style>\n",
              "<table border=\"1\" class=\"dataframe\">\n",
              "  <thead>\n",
              "    <tr style=\"text-align: right;\">\n",
              "      <th></th>\n",
              "      <th>experience</th>\n",
              "      <th>round</th>\n",
              "    </tr>\n",
              "  </thead>\n",
              "  <tbody>\n",
              "    <tr>\n",
              "      <th>0</th>\n",
              "      <td>Нет опыта</td>\n",
              "      <td>74643.0</td>\n",
              "    </tr>\n",
              "    <tr>\n",
              "      <th>1</th>\n",
              "      <td>От 1 года до 3 лет</td>\n",
              "      <td>139675.0</td>\n",
              "    </tr>\n",
              "    <tr>\n",
              "      <th>2</th>\n",
              "      <td>От 3 до 6 лет</td>\n",
              "      <td>243115.0</td>\n",
              "    </tr>\n",
              "  </tbody>\n",
              "</table>\n",
              "</div>"
            ],
            "text/plain": [
              "           experience     round\n",
              "0           Нет опыта   74643.0\n",
              "1  От 1 года до 3 лет  139675.0\n",
              "2       От 3 до 6 лет  243115.0"
            ]
          },
          "execution_count": 158,
          "metadata": {},
          "output_type": "execute_result"
        }
      ],
      "source": [
        "\n",
        "# результат запроса\n",
        "df = pd.read_sql_query(query_6_6, engine)\n",
        "result_6_6 = [np.array(df['round'])]\n",
        "df"
      ]
    },
    {
      "cell_type": "markdown",
      "id": "6a7892b4-4113-4746-adce-18aa2844f18e",
      "metadata": {
        "id": "6a7892b4-4113-4746-adce-18aa2844f18e"
      },
      "source": [
        "***"
      ]
    },
    {
      "cell_type": "markdown",
      "id": "3b51e40f",
      "metadata": {},
      "source": [
        "## Выводы\n",
        "- первое, что стоит отметить -- данные по общему количеству вакансий скорее всего сильно смещены, из за широких критериев для поиска\n",
        "- среднее по зп и количеству ключевых навыках тоже смещенная оценка, тк в выборке учавсвует какое то количество инородных данных(temlead распознается как ml) поэтому в последующем стоит избавиться от смещения \n",
        "- в вакансиях сильно влияет опыт работы на уровень ЗП, что контрастирует с выводами по общим данным. Скорее всего связанно с тем, что задачи в разных компаниях слабо разнятся, из за чего опыт работы в проектах критически важны для соискателя\n",
        "- из за смещенной оценки кажется более популярен какой то друой язык программирования R или Cpp, вакансии связанные с Python занимают только 5 часть подходящих вакансий, либо другие направления работы с данными (подготовка например) не требуют использования языка программирования\n"
      ]
    },
    {
      "cell_type": "markdown",
      "id": "c0ED6fh7wiBT",
      "metadata": {
        "id": "c0ED6fh7wiBT"
      },
      "source": [
        "# Общий вывод по проекту"
      ]
    },
    {
      "cell_type": "markdown",
      "id": "4dd1098b",
      "metadata": {},
      "source": [
        "На данный моммент выглядит так что данные требуют серьезной обработки, тк в текущем виде из них сложно извлечь какую либо пользу в связи: с неоднородностью данных (например по разному называются вакансии означающие одно и тоже), большим количеством пропущенных данных 50% незаполненых зп в вакансиях, присутсвует много неинформативных данных (например регионы которые указываются только в предприятиях, но не вакансиях). Также последующий минианализ показал что:\n",
        "- нет смысла в рекомендательной системе опирающейся на желаемую зп работника (данных настолько мало, что отсутствие зп кажется больше правилом, чем исключением)\n",
        "- нет смысла строить модель опираясь на регионы, тк 60% данных лежат в Москве и Спб, остальное распределено мжду всеми другими городами из за чего в каждом из них в среднем 1-2 вакансия, что делает рекомендательную систему бессмысленой \n",
        "- возможно стоит заменить зп на признак наличия зп(наличие зп повысит приоритет появления вакансии в рекомендованых)\n",
        "\n",
        "Возможно стоит произвести доп исследование в сторону ключевых навыков (стоит разбить на отдельные признаки one hot encoding в текущем виде их не сгруппировать). Пока у меня есть предположение что это ключевой признак на основе которого можно пытаться построить модель, потому что \n",
        "1. мало отсутвующих значений\n",
        "2. присутсвует довольно много данных и различных комбинаций \n",
        "3. есть возможность расмотреть отдельное влияние hard и soft навыков (и те и другие представлены в записях)\n",
        "\n",
        "Исходя из этого я бы попытался строить будущий анализ на основе этого признака (и добавил бы в рассмотрение опыт работы и занятость)"
      ]
    },
    {
      "cell_type": "markdown",
      "id": "3e8d204f",
      "metadata": {},
      "source": [
        "# Дополнительный анализ (предобработка)"
      ]
    },
    {
      "cell_type": "markdown",
      "id": "9e6fea44",
      "metadata": {},
      "source": [
        "хочется проверить носит ли ошибка несмещенной оценки систематический характер(те будет пропорционально влиять на все категории данных) и ее можно учитывать или она случайна\n",
        "поэтому найдем относительные погрешности и формим графиком \n",
        "\n",
        "(да, количество данных это не оценка, но в данном случае сложно получить какую объективную оценку для демонстрации смещения; зарплата не везде указывается, а среднее кол-во навыков совпадает для смещенных и несмещенных данных) "
      ]
    },
    {
      "cell_type": "code",
      "execution_count": 159,
      "id": "58464401",
      "metadata": {},
      "outputs": [],
      "source": [
        "# для начала получим несмещенную оценку\n",
        "# для этого изменим параметры\n",
        "parametrs = ['%%data scientist%%', '%%data science%%', '%%исследователь данных%%',\n",
        "             '%%[^tq]ml[^e]%%', '%%mle[^a]%%', 'ml%%', '%%[^tq]ml', '%%machine learning%%', '%%машинн%%обучен%%']\n",
        "# в параметрах мы учитываем наличие полей QML, HTML, teamLead, также учитываем, что есть MLE что должно относиться к нашим данным\n",
        "param_string = '|'.join(parametrs).lower()\n",
        "# будем использовать рег выражения которые доступны с помощью similar to, для этого преобразуем наш массив условий в строку\n",
        "query_7_1 = f'''\n",
        "select \n",
        "    count(id) cnt, \n",
        "    round(avg(length(key_skills) - length(replace(key_skills,CHR(9),''))+1),2) mean,\n",
        "    round(avg(coalesce((salary_from+salary_to)/2, salary_from, salary_to))) salary\n",
        "from  public.vacancies vac \n",
        "where lower(name) similar to '{param_string}'                                                           \n",
        "'''\n",
        "\n",
        "query_7_2 = f'''\n",
        "select \n",
        "    count(id) cnt\n",
        "from  public.vacancies vac \n",
        "where lower(name) similar to '{param_string}'\n",
        "    and (name ilike '%%junior%%' \n",
        "    or experience ilike '%%нет опыта%%'\n",
        "    or employment ilike '%%стажировка%%')                                                            \n",
        "'''\n",
        "\n",
        "query_7_3 = f'''\n",
        "select \n",
        "    count(id) cnt\n",
        "from  public.vacancies vac \n",
        "where lower(name) similar to '{param_string}'\n",
        "    and lower(key_skills) similar to '%%sql%%|%%postgres%%'                                                            \n",
        "'''\n",
        "\n",
        "query_7_4 = f'''\n",
        "select \n",
        "    count(id) cnt\n",
        "from  public.vacancies vac \n",
        "where lower(name) similar to '{param_string}'\n",
        "    and key_skills ilike '%%python%%'                                                            \n",
        "'''\n",
        "query_7_6 = f'''\n",
        "select \n",
        "    experience, \n",
        "    round(avg(coalesce((salary_from+salary_to)/2, salary_from, salary_to))) \n",
        "from  public.vacancies vac \n",
        "where lower(name) similar to '{param_string}'\n",
        "and  not (salary_from is null and salary_to is null)\n",
        "group by experience\n",
        "order by 2  \n",
        "'''"
      ]
    },
    {
      "cell_type": "code",
      "execution_count": 160,
      "id": "26c941ad",
      "metadata": {},
      "outputs": [],
      "source": [
        "# запрос несмещенных данных\n",
        "df = pd.read_sql_query(query_7_1, engine)\n",
        "result_6_1.append(df[\"cnt\"].loc[0])\n",
        "result_6_5.append(df[\"mean\"].loc[0])\n",
        "\n",
        "df = pd.read_sql_query(query_7_2, engine)\n",
        "result_6_2.append(df['cnt'].loc[0])\n",
        "\n",
        "df = pd.read_sql_query(query_7_3, engine)\n",
        "result_6_3.append(df['cnt'].loc[0])\n",
        "\n",
        "df = pd.read_sql_query(query_7_4, engine)\n",
        "result_6_4.append(df['cnt'].loc[0])\n",
        "\n",
        "df = pd.read_sql_query(query_7_6, engine)\n",
        "result_6_6.append(np.array(df['round']))"
      ]
    },
    {
      "cell_type": "code",
      "execution_count": 161,
      "id": "bac095db",
      "metadata": {},
      "outputs": [],
      "source": [
        "# изобразим полученые погрешности\n",
        "results = [result_6_1, result_6_2, result_6_3,\n",
        "           result_6_4, result_6_5, result_6_6]\n",
        "data = []\n",
        "for res in results:\n",
        "    if type(res[0]) != np.ndarray:\n",
        "        data.append(abs(res[1]-res[0])/res[1]*100)\n",
        "    else:\n",
        "        data.extend(abs(res[1]-res[0])/res[1]*100)\n",
        "\n",
        "bar_data = pd.DataFrame({\"error%\": data, \"type\": [\"количество вакансий\", \"вакансии для начинающих\", \"вакансии с SQL\",\n",
        "                        \"вакансий с python\", \"количество навыков среднее\", \"ЗП при отсутствии опыта\", \"ЗП при опыте от 1 года до 3 лет\", 'ЗП при опыте от 3 до 6 лет']})\n",
        "\n",
        "fig = px.bar(bar_data, y=\"error%\", color=\"type\", template=\"seaborn\",\n",
        "             title=\"график относительных ошибок несмещеных оценок\")\n",
        "#fig.show()\n",
        "fig.write_image(\"plotly/bar7.png\")"
      ]
    },
    {
      "cell_type": "markdown",
      "id": "05d59314",
      "metadata": {},
      "source": [
        "## Выводы\n",
        "- имеем промах по общему количеству вакансий тк предметная область data science все вакансии имеющие слово \"данные\" не подходят нам, тк это условие слишком общее и содержит много мусорных данных например: \"администратор базы данных 1с\" и тд.\n",
        "- погрешность точно не систематическая, тк teamlead вносит смещение только в данные относящиеся имеющие признаки опыта работы от 1 до 6 лет при этом большинство таких вакансий не содержат зарплаты(~0 относительная погрешность), но при этом имеют необходимые навыки - sql(15% относительная ошибка)   \n",
        "- интереснее дело обстоит с средним количеством навыков, мы удали несколько записей, несколько добавили и получили тотже результат, не более чем совпадение"
      ]
    },
    {
      "cell_type": "markdown",
      "id": "837cbf5e",
      "metadata": {},
      "source": [
        "# Дополнительный анализ"
      ]
    },
    {
      "cell_type": "markdown",
      "id": "158ca0d7",
      "metadata": {},
      "source": [
        "сперва посмотрим на распределение зп если указана и верхняя и нижняя граница - возьмем среднее"
      ]
    },
    {
      "cell_type": "code",
      "execution_count": 162,
      "id": "35cb752d",
      "metadata": {},
      "outputs": [],
      "source": [
        "query_8_1 = f'''\n",
        "select \n",
        "    experience, \n",
        "    coalesce((salary_from+salary_to)/2, salary_from, salary_to) salary\n",
        "from  public.vacancies vac \n",
        "where lower(name) similar to '{param_string}'\n",
        "and  not (salary_from is null and salary_to is null)\n",
        "order by 2  \n",
        "'''"
      ]
    },
    {
      "cell_type": "code",
      "execution_count": 163,
      "id": "79476c16",
      "metadata": {},
      "outputs": [],
      "source": [
        "df = pd.read_sql_query(query_8_1, engine)\n",
        "fig = px.histogram(df, x=\"salary\", color=\"experience\",\n",
        "                   nbins=30, template=\"seaborn\", title=\"распределение ЗП\")\n",
        "#fig.show()\n",
        "fig.write_image(\"plotly/hist8_1.png\")"
      ]
    },
    {
      "cell_type": "markdown",
      "id": "1dc02382",
      "metadata": {},
      "source": [
        "- Вообще данных недостаточно чтобы говорить, что данные распределенны согласно какому-нибудь закону, но *отдаленно* кажется что при отсутсвии и опыте от 3 лет опыта будет нормальное распределение с центром в 74к и 243к соответственно , при остальных условиях - лог нормальное с центрами в 139к \n",
        "- интересно что наблюдаем много \"башен\", что связано с желанием указать круглю сумму (100к, 120к и тд )\n",
        "- в опыте работы от 3 до 6 лет видны два пика - 300-319к и 220-239к, многовероятно они приходяться на Москву и СПб, просто в СПб зарплата несколько ниже в среднем\n",
        "- из за недостатка данных мы врядли сможем реализовать подбор по зп, как говорил выше, я бы наверное добавил признак наличия зп(указана/не указана ) в вакансии вместо зп (просто вакансии без зп реже бы появлялись для опытных работников)"
      ]
    },
    {
      "cell_type": "markdown",
      "id": "d789a783",
      "metadata": {},
      "source": [
        "Взглянем на распределение вакансий по городам миллионикам \n"
      ]
    },
    {
      "cell_type": "code",
      "execution_count": 164,
      "id": "d4385cc8",
      "metadata": {},
      "outputs": [],
      "source": [
        "query_8_2 = f'''\n",
        "select \n",
        "    ar.name,\n",
        "    count(vac.id)\n",
        "from  public.vacancies vac \n",
        "    join public.areas ar on ar.id = vac.area_id\n",
        "where lower(vac.name) similar to '{param_string}'\n",
        "and ar.name in {city_list}\n",
        "group by ar.name\n",
        "\n",
        "\n",
        "union all\n",
        "select \n",
        "    'другие',\n",
        "    count(vac.id)\n",
        "from  public.vacancies vac \n",
        "    join public.areas ar on ar.id = vac.area_id\n",
        "where lower(vac.name) similar to '{param_string}'\n",
        "and ar.name not in {city_list}\n",
        "order by 2 desc \n",
        "'''"
      ]
    },
    {
      "cell_type": "code",
      "execution_count": 165,
      "id": "c18c87f8",
      "metadata": {},
      "outputs": [],
      "source": [
        "df = pd.read_sql_query(query_8_2, engine)\n",
        "fig = px.histogram(df, x=\"name\", y='count', nbins=30, template=\"seaborn\", title=\"распределение вакансий по городам\")\n",
        "#fig.show()\n",
        "fig.write_image(\"plotly/hist8_2.png\")"
      ]
    },
    {
      "cell_type": "markdown",
      "id": "aa7f4d6a",
      "metadata": {},
      "source": [
        "Ничего удивительного Москва центр технологий, в ней вакансий столько же, сколько в остальных регионах вместе взятых. Кажется что в таком разрезе нет смыла строить модель для всех регионов(нет смылса в рекомендательной системе для человека у которого в городе 5 вакансий или меньше), но только для Москвы и СПб "
      ]
    }
  ],
  "metadata": {
    "colab": {
      "collapsed_sections": [
        "8d62a9f3-f64e-4fe7-bdac-c4dffa16155e"
      ],
      "provenance": []
    },
    "kernelspec": {
      "display_name": "Python 3",
      "language": "python",
      "name": "python3"
    },
    "language_info": {
      "codemirror_mode": {
        "name": "ipython",
        "version": 3
      },
      "file_extension": ".py",
      "mimetype": "text/x-python",
      "name": "python",
      "nbconvert_exporter": "python",
      "pygments_lexer": "ipython3",
      "version": "3.11.9"
    }
  },
  "nbformat": 4,
  "nbformat_minor": 5
}
